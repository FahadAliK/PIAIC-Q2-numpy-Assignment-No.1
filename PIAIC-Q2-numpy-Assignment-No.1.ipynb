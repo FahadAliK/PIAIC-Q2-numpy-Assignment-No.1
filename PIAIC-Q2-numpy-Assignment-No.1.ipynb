{
 "cells": [
  {
   "cell_type": "code",
   "execution_count": 49,
   "metadata": {},
   "outputs": [],
   "source": [
    "import numpy as np"
   ]
  },
  {
   "cell_type": "markdown",
   "metadata": {},
   "source": [
    "# NUMPY ASSIGNMENT\n",
    "## Suppose you have a superstore which runs 24/7. Your tasks are to:"
   ]
  },
  {
   "cell_type": "markdown",
   "metadata": {},
   "source": [
    "**1) Create a dataset of the sale transactions of each day and each hour for the Month of January. Each row contains in the array should contain 23 records. Each index will represent total sale in that hour. e.g row 0 will contain the array of 23 transactions of Jan 1st. Now the 0 index of each row should contain the total sale made at 00:00 hours of respective date.**"
   ]
  },
  {
   "cell_type": "code",
   "execution_count": 3,
   "metadata": {},
   "outputs": [],
   "source": [
    "data = np.random.randint(low = 1, high = 100, size = (31,24))"
   ]
  },
  {
   "cell_type": "code",
   "execution_count": 4,
   "metadata": {},
   "outputs": [
    {
     "data": {
      "text/plain": [
       "array([[55,  4, 37, 85, 98, 28, 23, 99, 57, 21,  8, 46, 30, 96, 12, 26,\n",
       "        70, 56, 45, 61, 39, 32, 44, 44],\n",
       "       [93,  2, 35, 31, 85, 10, 67, 90,  4, 29,  3, 54, 85, 46, 48, 74,\n",
       "        41, 50, 91, 25, 97, 45, 14, 36],\n",
       "       [75, 45, 37,  3, 32, 88, 47, 99, 44, 99,  9, 93, 42, 21, 14,  2,\n",
       "        81, 44, 24, 79, 13,  6, 22, 58],\n",
       "       [31, 14, 98, 56, 45, 98, 11, 89, 60, 22, 83, 60, 14, 44, 65, 57,\n",
       "        69,  6, 40, 13, 81, 61, 50, 14],\n",
       "       [46, 72, 59, 65, 43,  2, 79, 49, 19, 55, 34, 70, 84, 50, 24, 91,\n",
       "        93, 66, 46, 19, 45, 52, 20, 64],\n",
       "       [63, 57, 40, 17, 85, 33, 66, 64, 87,  5, 29, 22, 53, 80, 30, 21,\n",
       "        79, 83, 22, 55, 20, 31, 11, 92],\n",
       "       [12, 48, 86, 97, 22, 84, 51, 77, 98, 81, 68, 38, 92, 85, 87, 55,\n",
       "        11, 13, 18, 50, 39, 99, 21, 74],\n",
       "       [34, 37, 59, 24, 80,  7, 62, 28, 59, 59, 24, 76,  4, 88, 27, 50,\n",
       "        49, 37, 34, 77, 78, 20, 23, 91],\n",
       "       [61, 24, 44, 91, 81, 47, 52, 97, 77, 73, 87, 27, 18, 39, 93, 25,\n",
       "        87, 16, 77, 82, 19, 77, 62,  6],\n",
       "       [81, 28, 79,  7, 84, 83, 70, 40, 50, 14, 97, 57, 34, 63, 41, 94,\n",
       "        60, 49, 46, 60, 89, 60, 68, 39],\n",
       "       [93, 73,  3, 58, 91, 93, 35, 98, 13, 42, 84, 22,  4,  8, 72, 66,\n",
       "         5,  2,  5, 48, 41,  5, 78, 58],\n",
       "       [36, 51,  2, 28, 78, 81, 60, 49,  9, 25, 19, 58, 23, 84, 68, 19,\n",
       "        12, 65, 25, 83, 79, 92, 26, 80],\n",
       "       [53, 74, 96, 22, 12, 73,  5, 31, 87,  5, 79, 40, 18, 12, 98, 26,\n",
       "        78, 26, 11,  3, 47, 89, 53, 94],\n",
       "       [46, 63, 24, 63, 51, 58, 42, 22,  4, 89, 10, 65,  1, 83, 24, 41,\n",
       "        20, 25,  6, 91, 67, 42, 76, 39],\n",
       "       [61, 93, 26, 41, 69, 22, 79, 70,  3, 67, 41, 66, 37, 28, 35, 61,\n",
       "        39, 69, 72, 26, 48, 24,  4, 74],\n",
       "       [ 2, 34, 91, 62, 39, 71,  1, 94, 45, 20, 61, 72, 43,  2, 42, 34,\n",
       "        35, 20, 19, 29, 16, 32, 32, 32],\n",
       "       [10, 95, 48, 32, 48, 20, 90, 40, 63, 87, 79, 94, 77, 60, 84, 85,\n",
       "        63, 11, 28, 93, 96, 31, 80, 46],\n",
       "       [91, 40, 38, 10, 66, 66, 42, 38, 70, 52, 52, 98, 49, 15, 99, 26,\n",
       "        64, 72, 31, 28, 32, 63, 98, 30],\n",
       "       [84, 43, 15,  9, 93, 93, 42, 59, 93, 81, 14, 71, 30, 72, 85, 70,\n",
       "        63, 71, 81, 26, 32, 83, 18, 74],\n",
       "       [63, 73, 50, 96, 60, 82, 12, 66, 68, 50, 24, 56, 24, 34, 28, 67,\n",
       "        68, 55, 18, 91, 23,  1, 64, 19],\n",
       "       [59, 41, 84, 89, 79, 60, 85, 19, 71, 71, 48, 42, 10, 14, 97, 15,\n",
       "        51, 66, 42, 13,  1, 85, 28, 88],\n",
       "       [29, 90, 20, 88, 22, 27, 60, 66, 84, 71, 12, 34, 82, 71, 97, 38,\n",
       "        92, 77,  8, 31, 88, 11, 31, 10],\n",
       "       [76, 59, 80, 52, 65,  4, 84, 17, 95, 89, 91, 32, 45, 39, 80, 79,\n",
       "         8, 75, 98, 26, 55,  9, 88, 60],\n",
       "       [29, 95, 76, 59, 22, 34, 72, 54, 65, 92, 68, 37, 64, 37, 59, 91,\n",
       "        63, 16, 48, 29, 60, 97, 69, 78],\n",
       "       [45,  9, 42, 59, 86, 66, 88, 76, 95, 46, 55, 74, 83, 68, 14,  8,\n",
       "         3,  6,  7, 59, 66, 26, 38, 88],\n",
       "       [65, 94, 66, 37, 18, 64, 34, 21, 47, 14, 22, 97, 15, 59, 64, 59,\n",
       "        77,  5, 30, 17, 15, 37, 56, 23],\n",
       "       [72, 29, 24, 92, 39,  2, 49, 93, 82, 54, 39, 75, 55, 94, 15, 62,\n",
       "        96, 27, 75, 37, 46, 50, 65, 16],\n",
       "       [36,  7, 40, 75, 10,  6, 78, 14, 62, 83, 78, 69, 19, 56, 28, 16,\n",
       "        66, 22, 64, 37, 29, 39, 61,  7],\n",
       "       [89, 48, 45, 17,  6,  4, 80, 23, 76, 83, 79, 34, 39, 11, 29, 31,\n",
       "        54, 32, 88, 11, 92, 93,  8, 24],\n",
       "       [ 4, 13, 70, 31, 44, 59, 23, 50, 16, 62, 96, 14, 82, 53, 66, 56,\n",
       "        37,  3, 47, 43, 39, 79,  2, 94],\n",
       "       [21, 17, 69, 24, 40, 60, 71, 98, 21,  4, 97, 25, 60, 51, 67, 14,\n",
       "        93, 73, 78, 79, 47, 41, 66, 80]])"
      ]
     },
     "execution_count": 4,
     "metadata": {},
     "output_type": "execute_result"
    }
   ],
   "source": [
    "data"
   ]
  },
  {
   "cell_type": "markdown",
   "metadata": {},
   "source": [
    "**2) Calculate Daily Average Sale of this dataset**"
   ]
  },
  {
   "cell_type": "code",
   "execution_count": 5,
   "metadata": {},
   "outputs": [
    {
     "data": {
      "text/plain": [
       "array([46.5       , 48.125     , 44.875     , 49.20833333, 51.95833333,\n",
       "       47.70833333, 58.58333333, 46.95833333, 56.75      , 58.04166667,\n",
       "       45.70833333, 48.        , 47.16666667, 43.83333333, 48.125     ,\n",
       "       38.66666667, 60.83333333, 52.91666667, 58.41666667, 49.66666667,\n",
       "       52.41666667, 51.625     , 58.58333333, 58.91666667, 50.29166667,\n",
       "       43.16666667, 53.66666667, 41.75      , 45.66666667, 45.125     ,\n",
       "       54.        ])"
      ]
     },
     "execution_count": 5,
     "metadata": {},
     "output_type": "execute_result"
    }
   ],
   "source": [
    "data.mean(axis = 1)"
   ]
  },
  {
   "cell_type": "markdown",
   "metadata": {},
   "source": [
    "**3) Calculate the Average Sale of each hour, so that you have insight of the busiest hour in the month.**"
   ]
  },
  {
   "cell_type": "code",
   "execution_count": 18,
   "metadata": {},
   "outputs": [
    {
     "data": {
      "text/plain": [
       "array([46.5       , 48.125     , 44.875     , 49.20833333, 51.95833333,\n",
       "       47.70833333, 58.58333333, 46.95833333, 56.75      , 58.04166667,\n",
       "       45.70833333, 48.        , 47.16666667, 43.83333333, 48.125     ,\n",
       "       38.66666667, 60.83333333, 52.91666667, 58.41666667, 49.66666667,\n",
       "       52.41666667, 51.625     , 58.58333333, 58.91666667, 50.29166667,\n",
       "       43.16666667, 53.66666667, 41.75      , 45.66666667, 45.125     ,\n",
       "       54.        ])"
      ]
     },
     "execution_count": 18,
     "metadata": {},
     "output_type": "execute_result"
    }
   ],
   "source": [
    "data.mean(axis = 1)"
   ]
  },
  {
   "cell_type": "markdown",
   "metadata": {},
   "source": [
    "**4) Calculate the minimum and Maximum Sale of each day.**"
   ]
  },
  {
   "cell_type": "code",
   "execution_count": 8,
   "metadata": {},
   "outputs": [
    {
     "data": {
      "text/plain": [
       "array([ 4,  2,  2,  6,  2,  5, 11,  4,  6,  7,  2,  2,  3,  1,  3,  1, 10,\n",
       "       10,  9,  1,  1,  8,  4, 16,  3,  5,  2,  6,  4,  2,  4])"
      ]
     },
     "execution_count": 8,
     "metadata": {},
     "output_type": "execute_result"
    }
   ],
   "source": [
    "data.min(axis = 1)"
   ]
  },
  {
   "cell_type": "code",
   "execution_count": 9,
   "metadata": {},
   "outputs": [
    {
     "data": {
      "text/plain": [
       "array([99, 97, 99, 98, 93, 92, 99, 91, 97, 97, 98, 92, 98, 91, 93, 94, 96,\n",
       "       99, 93, 96, 97, 97, 98, 97, 95, 97, 96, 83, 93, 96, 98])"
      ]
     },
     "execution_count": 9,
     "metadata": {},
     "output_type": "execute_result"
    }
   ],
   "source": [
    "data.max(axis = 1)"
   ]
  },
  {
   "cell_type": "markdown",
   "metadata": {},
   "source": [
    "**5) Calculate the Minimum and Maximum Sale of each hour.**"
   ]
  },
  {
   "cell_type": "code",
   "execution_count": 10,
   "metadata": {},
   "outputs": [
    {
     "data": {
      "text/plain": [
       "array([ 2,  2,  2,  3,  6,  2,  1, 14,  3,  4,  3, 14,  1,  2, 12,  2,  3,\n",
       "        2,  5,  3,  1,  1,  2,  6])"
      ]
     },
     "execution_count": 10,
     "metadata": {},
     "output_type": "execute_result"
    }
   ],
   "source": [
    "data.min(axis = 0)"
   ]
  },
  {
   "cell_type": "code",
   "execution_count": 11,
   "metadata": {},
   "outputs": [
    {
     "data": {
      "text/plain": [
       "array([93, 95, 98, 97, 98, 98, 90, 99, 98, 99, 97, 98, 92, 96, 99, 94, 96,\n",
       "       83, 98, 93, 97, 99, 98, 94])"
      ]
     },
     "execution_count": 11,
     "metadata": {},
     "output_type": "execute_result"
    }
   ],
   "source": [
    "data.max(axis = 0)"
   ]
  },
  {
   "cell_type": "markdown",
   "metadata": {},
   "source": [
    "**6) Calculate Daily Cumulative Sum**"
   ]
  },
  {
   "cell_type": "code",
   "execution_count": 19,
   "metadata": {},
   "outputs": [
    {
     "data": {
      "text/plain": [
       "array([[  55,   59,   96,  181,  279,  307,  330,  429,  486,  507,  515,\n",
       "         561,  591,  687,  699,  725,  795,  851,  896,  957,  996, 1028,\n",
       "        1072, 1116],\n",
       "       [  93,   95,  130,  161,  246,  256,  323,  413,  417,  446,  449,\n",
       "         503,  588,  634,  682,  756,  797,  847,  938,  963, 1060, 1105,\n",
       "        1119, 1155],\n",
       "       [  75,  120,  157,  160,  192,  280,  327,  426,  470,  569,  578,\n",
       "         671,  713,  734,  748,  750,  831,  875,  899,  978,  991,  997,\n",
       "        1019, 1077],\n",
       "       [  31,   45,  143,  199,  244,  342,  353,  442,  502,  524,  607,\n",
       "         667,  681,  725,  790,  847,  916,  922,  962,  975, 1056, 1117,\n",
       "        1167, 1181],\n",
       "       [  46,  118,  177,  242,  285,  287,  366,  415,  434,  489,  523,\n",
       "         593,  677,  727,  751,  842,  935, 1001, 1047, 1066, 1111, 1163,\n",
       "        1183, 1247],\n",
       "       [  63,  120,  160,  177,  262,  295,  361,  425,  512,  517,  546,\n",
       "         568,  621,  701,  731,  752,  831,  914,  936,  991, 1011, 1042,\n",
       "        1053, 1145],\n",
       "       [  12,   60,  146,  243,  265,  349,  400,  477,  575,  656,  724,\n",
       "         762,  854,  939, 1026, 1081, 1092, 1105, 1123, 1173, 1212, 1311,\n",
       "        1332, 1406],\n",
       "       [  34,   71,  130,  154,  234,  241,  303,  331,  390,  449,  473,\n",
       "         549,  553,  641,  668,  718,  767,  804,  838,  915,  993, 1013,\n",
       "        1036, 1127],\n",
       "       [  61,   85,  129,  220,  301,  348,  400,  497,  574,  647,  734,\n",
       "         761,  779,  818,  911,  936, 1023, 1039, 1116, 1198, 1217, 1294,\n",
       "        1356, 1362],\n",
       "       [  81,  109,  188,  195,  279,  362,  432,  472,  522,  536,  633,\n",
       "         690,  724,  787,  828,  922,  982, 1031, 1077, 1137, 1226, 1286,\n",
       "        1354, 1393],\n",
       "       [  93,  166,  169,  227,  318,  411,  446,  544,  557,  599,  683,\n",
       "         705,  709,  717,  789,  855,  860,  862,  867,  915,  956,  961,\n",
       "        1039, 1097],\n",
       "       [  36,   87,   89,  117,  195,  276,  336,  385,  394,  419,  438,\n",
       "         496,  519,  603,  671,  690,  702,  767,  792,  875,  954, 1046,\n",
       "        1072, 1152],\n",
       "       [  53,  127,  223,  245,  257,  330,  335,  366,  453,  458,  537,\n",
       "         577,  595,  607,  705,  731,  809,  835,  846,  849,  896,  985,\n",
       "        1038, 1132],\n",
       "       [  46,  109,  133,  196,  247,  305,  347,  369,  373,  462,  472,\n",
       "         537,  538,  621,  645,  686,  706,  731,  737,  828,  895,  937,\n",
       "        1013, 1052],\n",
       "       [  61,  154,  180,  221,  290,  312,  391,  461,  464,  531,  572,\n",
       "         638,  675,  703,  738,  799,  838,  907,  979, 1005, 1053, 1077,\n",
       "        1081, 1155],\n",
       "       [   2,   36,  127,  189,  228,  299,  300,  394,  439,  459,  520,\n",
       "         592,  635,  637,  679,  713,  748,  768,  787,  816,  832,  864,\n",
       "         896,  928],\n",
       "       [  10,  105,  153,  185,  233,  253,  343,  383,  446,  533,  612,\n",
       "         706,  783,  843,  927, 1012, 1075, 1086, 1114, 1207, 1303, 1334,\n",
       "        1414, 1460],\n",
       "       [  91,  131,  169,  179,  245,  311,  353,  391,  461,  513,  565,\n",
       "         663,  712,  727,  826,  852,  916,  988, 1019, 1047, 1079, 1142,\n",
       "        1240, 1270],\n",
       "       [  84,  127,  142,  151,  244,  337,  379,  438,  531,  612,  626,\n",
       "         697,  727,  799,  884,  954, 1017, 1088, 1169, 1195, 1227, 1310,\n",
       "        1328, 1402],\n",
       "       [  63,  136,  186,  282,  342,  424,  436,  502,  570,  620,  644,\n",
       "         700,  724,  758,  786,  853,  921,  976,  994, 1085, 1108, 1109,\n",
       "        1173, 1192],\n",
       "       [  59,  100,  184,  273,  352,  412,  497,  516,  587,  658,  706,\n",
       "         748,  758,  772,  869,  884,  935, 1001, 1043, 1056, 1057, 1142,\n",
       "        1170, 1258],\n",
       "       [  29,  119,  139,  227,  249,  276,  336,  402,  486,  557,  569,\n",
       "         603,  685,  756,  853,  891,  983, 1060, 1068, 1099, 1187, 1198,\n",
       "        1229, 1239],\n",
       "       [  76,  135,  215,  267,  332,  336,  420,  437,  532,  621,  712,\n",
       "         744,  789,  828,  908,  987,  995, 1070, 1168, 1194, 1249, 1258,\n",
       "        1346, 1406],\n",
       "       [  29,  124,  200,  259,  281,  315,  387,  441,  506,  598,  666,\n",
       "         703,  767,  804,  863,  954, 1017, 1033, 1081, 1110, 1170, 1267,\n",
       "        1336, 1414],\n",
       "       [  45,   54,   96,  155,  241,  307,  395,  471,  566,  612,  667,\n",
       "         741,  824,  892,  906,  914,  917,  923,  930,  989, 1055, 1081,\n",
       "        1119, 1207],\n",
       "       [  65,  159,  225,  262,  280,  344,  378,  399,  446,  460,  482,\n",
       "         579,  594,  653,  717,  776,  853,  858,  888,  905,  920,  957,\n",
       "        1013, 1036],\n",
       "       [  72,  101,  125,  217,  256,  258,  307,  400,  482,  536,  575,\n",
       "         650,  705,  799,  814,  876,  972,  999, 1074, 1111, 1157, 1207,\n",
       "        1272, 1288],\n",
       "       [  36,   43,   83,  158,  168,  174,  252,  266,  328,  411,  489,\n",
       "         558,  577,  633,  661,  677,  743,  765,  829,  866,  895,  934,\n",
       "         995, 1002],\n",
       "       [  89,  137,  182,  199,  205,  209,  289,  312,  388,  471,  550,\n",
       "         584,  623,  634,  663,  694,  748,  780,  868,  879,  971, 1064,\n",
       "        1072, 1096],\n",
       "       [   4,   17,   87,  118,  162,  221,  244,  294,  310,  372,  468,\n",
       "         482,  564,  617,  683,  739,  776,  779,  826,  869,  908,  987,\n",
       "         989, 1083],\n",
       "       [  21,   38,  107,  131,  171,  231,  302,  400,  421,  425,  522,\n",
       "         547,  607,  658,  725,  739,  832,  905,  983, 1062, 1109, 1150,\n",
       "        1216, 1296]], dtype=int32)"
      ]
     },
     "execution_count": 19,
     "metadata": {},
     "output_type": "execute_result"
    }
   ],
   "source": [
    "data.cumsum(axis = 1)"
   ]
  },
  {
   "cell_type": "markdown",
   "metadata": {},
   "source": [
    "**7) Calculate Daily Total Sum**"
   ]
  },
  {
   "cell_type": "code",
   "execution_count": 20,
   "metadata": {},
   "outputs": [
    {
     "data": {
      "text/plain": [
       "array([1116, 1155, 1077, 1181, 1247, 1145, 1406, 1127, 1362, 1393, 1097,\n",
       "       1152, 1132, 1052, 1155,  928, 1460, 1270, 1402, 1192, 1258, 1239,\n",
       "       1406, 1414, 1207, 1036, 1288, 1002, 1096, 1083, 1296])"
      ]
     },
     "execution_count": 20,
     "metadata": {},
     "output_type": "execute_result"
    }
   ],
   "source": [
    "data.sum(axis = 1)"
   ]
  },
  {
   "cell_type": "markdown",
   "metadata": {},
   "source": [
    "**8) Use Boolean Indexing to search for records where sale is greater than a defined value, choose an appropriate value depending upon your dataset**"
   ]
  },
  {
   "cell_type": "code",
   "execution_count": 21,
   "metadata": {},
   "outputs": [
    {
     "data": {
      "text/plain": [
       "array([[False, False, False,  True,  True, False, False,  True, False,\n",
       "        False, False, False, False,  True, False, False, False, False,\n",
       "        False, False, False, False, False, False],\n",
       "       [ True, False, False, False,  True, False, False,  True, False,\n",
       "        False, False, False,  True, False, False, False, False, False,\n",
       "         True, False,  True, False, False, False],\n",
       "       [False, False, False, False, False,  True, False,  True, False,\n",
       "         True, False,  True, False, False, False, False,  True, False,\n",
       "        False, False, False, False, False, False],\n",
       "       [False, False,  True, False, False,  True, False,  True, False,\n",
       "        False,  True, False, False, False, False, False, False, False,\n",
       "        False, False,  True, False, False, False],\n",
       "       [False, False, False, False, False, False, False, False, False,\n",
       "        False, False, False,  True, False, False,  True,  True, False,\n",
       "        False, False, False, False, False, False],\n",
       "       [False, False, False, False,  True, False, False, False,  True,\n",
       "        False, False, False, False, False, False, False, False,  True,\n",
       "        False, False, False, False, False,  True],\n",
       "       [False, False,  True,  True, False,  True, False, False,  True,\n",
       "         True, False, False,  True,  True,  True, False, False, False,\n",
       "        False, False, False,  True, False, False],\n",
       "       [False, False, False, False, False, False, False, False, False,\n",
       "        False, False, False, False,  True, False, False, False, False,\n",
       "        False, False, False, False, False,  True],\n",
       "       [False, False, False,  True,  True, False, False,  True, False,\n",
       "        False,  True, False, False, False,  True, False,  True, False,\n",
       "        False,  True, False, False, False, False],\n",
       "       [ True, False, False, False,  True,  True, False, False, False,\n",
       "        False,  True, False, False, False, False,  True, False, False,\n",
       "        False, False,  True, False, False, False],\n",
       "       [ True, False, False, False,  True,  True, False,  True, False,\n",
       "        False,  True, False, False, False, False, False, False, False,\n",
       "        False, False, False, False, False, False],\n",
       "       [False, False, False, False, False,  True, False, False, False,\n",
       "        False, False, False, False,  True, False, False, False, False,\n",
       "        False,  True, False,  True, False, False],\n",
       "       [False, False,  True, False, False, False, False, False,  True,\n",
       "        False, False, False, False, False,  True, False, False, False,\n",
       "        False, False, False,  True, False,  True],\n",
       "       [False, False, False, False, False, False, False, False, False,\n",
       "         True, False, False, False,  True, False, False, False, False,\n",
       "        False,  True, False, False, False, False],\n",
       "       [False,  True, False, False, False, False, False, False, False,\n",
       "        False, False, False, False, False, False, False, False, False,\n",
       "        False, False, False, False, False, False],\n",
       "       [False, False,  True, False, False, False, False,  True, False,\n",
       "        False, False, False, False, False, False, False, False, False,\n",
       "        False, False, False, False, False, False],\n",
       "       [False,  True, False, False, False, False,  True, False, False,\n",
       "         True, False,  True, False, False,  True,  True, False, False,\n",
       "        False,  True,  True, False, False, False],\n",
       "       [ True, False, False, False, False, False, False, False, False,\n",
       "        False, False,  True, False, False,  True, False, False, False,\n",
       "        False, False, False, False,  True, False],\n",
       "       [ True, False, False, False,  True,  True, False, False,  True,\n",
       "         True, False, False, False, False,  True, False, False, False,\n",
       "         True, False, False,  True, False, False],\n",
       "       [False, False, False,  True, False,  True, False, False, False,\n",
       "        False, False, False, False, False, False, False, False, False,\n",
       "        False,  True, False, False, False, False],\n",
       "       [False, False,  True,  True, False, False,  True, False, False,\n",
       "        False, False, False, False, False,  True, False, False, False,\n",
       "        False, False, False,  True, False,  True],\n",
       "       [False,  True, False,  True, False, False, False, False,  True,\n",
       "        False, False, False,  True, False,  True, False,  True, False,\n",
       "        False, False,  True, False, False, False],\n",
       "       [False, False, False, False, False, False,  True, False,  True,\n",
       "         True,  True, False, False, False, False, False, False, False,\n",
       "         True, False, False, False,  True, False],\n",
       "       [False,  True, False, False, False, False, False, False, False,\n",
       "         True, False, False, False, False, False,  True, False, False,\n",
       "        False, False, False,  True, False, False],\n",
       "       [False, False, False, False,  True, False,  True, False,  True,\n",
       "        False, False, False,  True, False, False, False, False, False,\n",
       "        False, False, False, False, False,  True],\n",
       "       [False,  True, False, False, False, False, False, False, False,\n",
       "        False, False,  True, False, False, False, False, False, False,\n",
       "        False, False, False, False, False, False],\n",
       "       [False, False, False,  True, False, False, False,  True,  True,\n",
       "        False, False, False, False,  True, False, False,  True, False,\n",
       "        False, False, False, False, False, False],\n",
       "       [False, False, False, False, False, False, False, False, False,\n",
       "         True, False, False, False, False, False, False, False, False,\n",
       "        False, False, False, False, False, False],\n",
       "       [ True, False, False, False, False, False, False, False, False,\n",
       "         True, False, False, False, False, False, False, False, False,\n",
       "         True, False,  True,  True, False, False],\n",
       "       [False, False, False, False, False, False, False, False, False,\n",
       "        False,  True, False,  True, False, False, False, False, False,\n",
       "        False, False, False, False, False,  True],\n",
       "       [False, False, False, False, False, False, False,  True, False,\n",
       "        False,  True, False, False, False, False, False,  True, False,\n",
       "        False, False, False, False, False, False]])"
      ]
     },
     "execution_count": 21,
     "metadata": {},
     "output_type": "execute_result"
    }
   ],
   "source": [
    "data > 80"
   ]
  },
  {
   "cell_type": "markdown",
   "metadata": {},
   "source": [
    "**8) Use Boolean Indexing to search for records where sale is greater than a defined value, choose an appropriate value depending upon your dataset**"
   ]
  },
  {
   "cell_type": "code",
   "execution_count": 24,
   "metadata": {},
   "outputs": [
    {
     "data": {
      "text/plain": [
       "array([85, 98, 99, 96, 93, 85, 90, 85, 91, 97, 88, 99, 99, 93, 81, 98, 98,\n",
       "       89, 83, 81, 84, 91, 93, 85, 87, 83, 92, 86, 97, 84, 98, 81, 92, 85,\n",
       "       87, 99, 88, 91, 91, 81, 97, 87, 93, 87, 82, 81, 84, 83, 97, 94, 89,\n",
       "       93, 91, 93, 98, 84, 81, 84, 83, 92, 96, 87, 98, 89, 94, 89, 83, 91,\n",
       "       93, 91, 94, 95, 90, 87, 94, 84, 85, 93, 96, 91, 98, 99, 98, 84, 93,\n",
       "       93, 93, 81, 85, 81, 83, 96, 82, 91, 84, 89, 85, 97, 85, 88, 90, 88,\n",
       "       84, 82, 97, 92, 88, 84, 95, 89, 91, 98, 88, 95, 92, 91, 97, 86, 88,\n",
       "       95, 83, 88, 94, 97, 92, 93, 82, 94, 96, 83, 89, 83, 88, 92, 93, 96,\n",
       "       82, 94, 98, 97, 93])"
      ]
     },
     "execution_count": 24,
     "metadata": {},
     "output_type": "execute_result"
    }
   ],
   "source": [
    "condition = data > 80\n",
    "data[condition]"
   ]
  },
  {
   "cell_type": "code",
   "execution_count": 48,
   "metadata": {},
   "outputs": [
    {
     "name": "stdout",
     "output_type": "stream",
     "text": [
      "There are 141 hours in which you have sale more then 80rs out of 744\n"
     ]
    }
   ],
   "source": [
    "data_greater80 = len(data[data > 80])\n",
    "total_hours = len(data.reshape(31*24,1))\n",
    "print('There are',data_greater80,'hours in which you have sale more then 80rs out of',total_hours)"
   ]
  },
  {
   "cell_type": "code",
   "execution_count": 45,
   "metadata": {},
   "outputs": [
    {
     "data": {
      "text/plain": [
       "array([1116, 1155, 1077, 1181, 1247, 1145, 1406, 1127, 1362, 1393, 1097,\n",
       "       1152, 1132, 1052, 1155,  928, 1460, 1270, 1402, 1192, 1258, 1239,\n",
       "       1406, 1414, 1207, 1036, 1288, 1002, 1096, 1083, 1296])"
      ]
     },
     "execution_count": 45,
     "metadata": {},
     "output_type": "execute_result"
    }
   ],
   "source": [
    "data.sum(axis = 1)"
   ]
  },
  {
   "cell_type": "code",
   "execution_count": 40,
   "metadata": {},
   "outputs": [
    {
     "data": {
      "text/plain": [
       "array([ True,  True,  True,  True,  True,  True,  True,  True,  True,\n",
       "        True,  True,  True,  True,  True,  True, False,  True,  True,\n",
       "        True,  True,  True,  True,  True,  True,  True,  True,  True,\n",
       "        True,  True,  True,  True])"
      ]
     },
     "execution_count": 40,
     "metadata": {},
     "output_type": "execute_result"
    }
   ],
   "source": [
    "data.sum(axis = 1) > 1000"
   ]
  },
  {
   "cell_type": "code",
   "execution_count": 42,
   "metadata": {},
   "outputs": [
    {
     "name": "stdout",
     "output_type": "stream",
     "text": [
      "There are 30 days in which sale is greater than 1000.\n"
     ]
    }
   ],
   "source": [
    "days_sale1000 = len(data.sum(axis = 1)[data.sum(axis = 1) > 1000])\n",
    "print('There are',days_sale1000,'days in which sale is greater than 1000.')"
   ]
  },
  {
   "cell_type": "code",
   "execution_count": null,
   "metadata": {},
   "outputs": [],
   "source": []
  }
 ],
 "metadata": {
  "kernelspec": {
   "display_name": "Python 3",
   "language": "python",
   "name": "python3"
  },
  "language_info": {
   "codemirror_mode": {
    "name": "ipython",
    "version": 3
   },
   "file_extension": ".py",
   "mimetype": "text/x-python",
   "name": "python",
   "nbconvert_exporter": "python",
   "pygments_lexer": "ipython3",
   "version": "3.7.3"
  }
 },
 "nbformat": 4,
 "nbformat_minor": 2
}
